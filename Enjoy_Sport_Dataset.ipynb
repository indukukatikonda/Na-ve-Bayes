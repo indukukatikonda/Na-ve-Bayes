{
  "nbformat": 4,
  "nbformat_minor": 0,
  "metadata": {
    "colab": {
      "provenance": []
    },
    "kernelspec": {
      "name": "python3",
      "display_name": "Python 3"
    },
    "language_info": {
      "name": "python"
    }
  },
  "cells": [
    {
      "cell_type": "code",
      "execution_count": 2,
      "metadata": {
        "id": "iIawbiD-iQqf",
        "colab": {
          "base_uri": "https://localhost:8080/"
        },
        "outputId": "dade3071-cbf2-470c-c544-2467fdf0d1f2"
      },
      "outputs": [
        {
          "output_type": "stream",
          "name": "stdout",
          "text": [
            "Confusion Matrix:\n",
            "[[1 1]\n",
            " [1 2]]\n",
            "\n",
            "Accuracy: 0.6\n",
            "\n",
            "Classification Report:\n",
            "              precision    recall  f1-score   support\n",
            "\n",
            "          No       0.50      0.50      0.50         2\n",
            "         Yes       0.67      0.67      0.67         3\n",
            "\n",
            "    accuracy                           0.60         5\n",
            "   macro avg       0.58      0.58      0.58         5\n",
            "weighted avg       0.60      0.60      0.60         5\n",
            "\n"
          ]
        }
      ],
      "source": [
        "import pandas as pd\n",
        "from sklearn.model_selection import train_test_split\n",
        "from sklearn.naive_bayes import CategoricalNB\n",
        "from sklearn.metrics import confusion_matrix, accuracy_score, classification_report\n",
        "\n",
        "# Load the dataset\n",
        "file_path = '/content/Enjoy sports.csv'\n",
        "data = pd.read_csv(file_path)\n",
        "\n",
        "# Drop the 'Day' column as it is not a feature\n",
        "data = data.drop(columns=['Day'])\n",
        "\n",
        "# Encoding categorical variables\n",
        "data_encoded = pd.get_dummies(data, columns=['Outlook', 'Temp.', 'Humidity', 'Wind'], drop_first=True)\n",
        "\n",
        "# Splitting features and target\n",
        "X = data_encoded.drop('Decision', axis=1)\n",
        "y = data_encoded['Decision'].apply(lambda x: 1 if x == 'Yes' else 0)  # Encode 'Yes' as 1 and 'No' as 0\n",
        "\n",
        "# Split data into training and testing sets\n",
        "X_train, X_test, y_train, y_test = train_test_split(X, y, test_size=0.3, random_state=42)\n",
        "\n",
        "# Initialize and train Naive Bayes classifier\n",
        "nb_classifier = CategoricalNB()\n",
        "nb_classifier.fit(X_train, y_train)\n",
        "\n",
        "# Make predictions\n",
        "y_pred = nb_classifier.predict(X_test)\n",
        "\n",
        "# Evaluate the model\n",
        "conf_matrix = confusion_matrix(y_test, y_pred)\n",
        "accuracy = accuracy_score(y_test, y_pred)\n",
        "classification_rep = classification_report(y_test, y_pred, target_names=['No', 'Yes'])\n",
        "\n",
        "# Print the evaluation metrics\n",
        "print(\"Confusion Matrix:\")\n",
        "print(conf_matrix)\n",
        "print(\"\\nAccuracy:\", accuracy)\n",
        "print(\"\\nClassification Report:\")\n",
        "print(classification_rep)\n"
      ]
    }
  ]
}